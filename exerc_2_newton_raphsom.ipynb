{
 "cells": [
  {
   "cell_type": "code",
   "execution_count": 3,
   "id": "c8531555",
   "metadata": {},
   "outputs": [],
   "source": [
    "import numpy as np"
   ]
  },
  {
   "cell_type": "code",
   "execution_count": 13,
   "id": "94251283",
   "metadata": {},
   "outputs": [],
   "source": [
    "e = np.exp"
   ]
  },
  {
   "cell_type": "code",
   "execution_count": 16,
   "id": "3c04faca",
   "metadata": {},
   "outputs": [],
   "source": [
    "A = e(1)/3"
   ]
  },
  {
   "cell_type": "code",
   "execution_count": 17,
   "id": "0fb32984",
   "metadata": {},
   "outputs": [
    {
     "data": {
      "text/plain": [
       "0.9060939428196817"
      ]
     },
     "execution_count": 17,
     "metadata": {},
     "output_type": "execute_result"
    }
   ],
   "source": [
    "A"
   ]
  },
  {
   "cell_type": "code",
   "execution_count": 23,
   "id": "a3563483",
   "metadata": {},
   "outputs": [],
   "source": [
    "def f(t):\n",
    "    f = A*t*e(-t/3) - 0.25\n",
    "    return f\n",
    "def dnf(t):\n",
    "    h=1e-9\n",
    "    dnf = (f(t+h)-f(t))/h\n",
    "    return dnf"
   ]
  },
  {
   "cell_type": "code",
   "execution_count": 32,
   "id": "31aab4b8",
   "metadata": {},
   "outputs": [
    {
     "name": "stdout",
     "output_type": "stream",
     "text": [
      "0 4 0.7053750807650523\n",
      "1 12.859865573074858 -0.08976645643385103\n",
      "2 10.667830048345735 0.026008680437227538\n",
      "3 11.061127007190336 0.0010212369389171472\n",
      "4 11.077874148501468 1.7888418700762188e-06\n",
      "5 11.077903586541934 7.726597139878777e-12 -0.06076589231795992\n"
     ]
    }
   ],
   "source": [
    "t = 4\n",
    "\n",
    "tol =1e-9\n",
    "k = 0\n",
    "\n",
    "while abs(f(t))>tol:\n",
    "    print(k,t, f(t))\n",
    "    t = t - f(t)/dnf(t)\n",
    "    k+=1\n",
    "    \n",
    "print(k ,t  ,  f(t) , dnf(t))"
   ]
  },
  {
   "cell_type": "code",
   "execution_count": null,
   "id": "25dd7a4c",
   "metadata": {},
   "outputs": [],
   "source": []
  }
 ],
 "metadata": {
  "kernelspec": {
   "display_name": "Python 3",
   "language": "python",
   "name": "python3"
  },
  "language_info": {
   "codemirror_mode": {
    "name": "ipython",
    "version": 3
   },
   "file_extension": ".py",
   "mimetype": "text/x-python",
   "name": "python",
   "nbconvert_exporter": "python",
   "pygments_lexer": "ipython3",
   "version": "3.8.8"
  }
 },
 "nbformat": 4,
 "nbformat_minor": 5
}
