{
 "cells": [
  {
   "cell_type": "code",
   "execution_count": 1,
   "id": "299d4da6",
   "metadata": {},
   "outputs": [],
   "source": [
    "import numpy as np\n",
    "\n"
   ]
  },
  {
   "cell_type": "code",
   "execution_count": 2,
   "id": "a99f0448",
   "metadata": {},
   "outputs": [],
   "source": [
    "#function is \n"
   ]
  },
  {
   "cell_type": "code",
   "execution_count": 3,
   "id": "95e7d560",
   "metadata": {},
   "outputs": [],
   "source": [
    "lat = 10.0\n",
    "\n",
    "vol =12.4"
   ]
  },
  {
   "cell_type": "code",
   "execution_count": 4,
   "id": "ad428789",
   "metadata": {},
   "outputs": [
    {
     "data": {
      "text/plain": [
       "12.4"
      ]
     },
     "execution_count": 4,
     "metadata": {},
     "output_type": "execute_result"
    }
   ],
   "source": [
    "vol"
   ]
  },
  {
   "cell_type": "code",
   "execution_count": 5,
   "id": "e6d2965c",
   "metadata": {
    "scrolled": true
   },
   "outputs": [
    {
     "name": "stdout",
     "output_type": "stream",
     "text": [
      "3.3079632679489652\n"
     ]
    }
   ],
   "source": [
    "def f(x):\n",
    "    f = lat*(0.5*np.pi -np.arcsin(x)-x*(1 - x**2)**0.5) - vol\n",
    "    return f\n",
    "print(f(0))"
   ]
  },
  {
   "cell_type": "code",
   "execution_count": 6,
   "id": "807226af",
   "metadata": {},
   "outputs": [],
   "source": [
    "a = 0\n",
    "b = 1\n",
    "tol = 1e-3"
   ]
  },
  {
   "cell_type": "code",
   "execution_count": 7,
   "id": "c297dbd6",
   "metadata": {},
   "outputs": [],
   "source": [
    "x = (a +b)/2"
   ]
  },
  {
   "cell_type": "code",
   "execution_count": 8,
   "id": "e2f98887",
   "metadata": {},
   "outputs": [
    {
     "name": "stdout",
     "output_type": "stream",
     "text": [
      "k = 0, a= 0, x = 0.5, b = 1, f(a) = 3.3079632679489652, f(x) = -6.258151506956217, f(b) = -12.4\n",
      "k = 1, a= 0, x = 0.25, b = 0.5, f(a) = 3.3079632679489652, f(x) = -1.6394538748514567, f(b) = -6.258151506956217\n",
      "k = 2, a= 0, x = 0.125, b = 0.25, f(a) = 3.3079632679489652, f(x) = 0.8144890292067846, f(b) = -1.6394538748514567\n",
      "k = 3, a= 0.125, x = 0.1875, b = 0.25, f(a) = 0.8144890292067846, f(x) = -0.4199467241373078, f(b) = -1.6394538748514567\n",
      "k = 4, a= 0.125, x = 0.15625, b = 0.1875, f(a) = 0.8144890292067846, f(x) = 0.1957259025413176, f(b) = -0.4199467241373078\n",
      "k = 5, a= 0.15625, x = 0.171875, b = 0.1875, f(a) = 0.1957259025413176, f(x) = -0.11253639384839786, f(b) = -0.4199467241373078\n",
      "k = 6, a= 0.15625, x = 0.1640625, b = 0.171875, f(a) = 0.1957259025413176, f(x) = 0.04149324142395905, f(b) = -0.11253639384839786\n",
      "k = 7, a= 0.1640625, x = 0.16796875, b = 0.171875, f(a) = 0.04149324142395905, f(x) = -0.03554757570547373, f(b) = -0.11253639384839786\n",
      "k = 8, a= 0.1640625, x = 0.166015625, b = 0.16796875, f(a) = 0.04149324142395905, f(x) = 0.0029664107403899465, f(b) = -0.03554757570547373\n",
      "k = 9, a= 0.166015625, x = 0.1669921875, b = 0.16796875, f(a) = 0.0029664107403899465, f(x) = -0.01629219772543422, f(b) = -0.03554757570547373\n",
      "k = 10, a= 0.166015625, x = 0.16650390625, b = 0.1669921875, f(a) = 0.0029664107403899465, f(x) = -0.006663296088715853, f(b) = -0.01629219772543422\n",
      "k = 11, a= 0.166015625, x = 0.166259765625, b = 0.16650390625, f(a) = 0.0029664107403899465, f(x) = -0.0018485431714303502, f(b) = -0.006663296088715853\n",
      "k = 12, a= 0.166015625, x = 0.1661376953125, b = 0.166259765625, f(a) = 0.0029664107403899465, f(x) = 0.0005589086791353282, f(b) = -0.0018485431714303502\n",
      "k = 13, a = 0.1661376953125, x = 0.1661376953125, b = 0.166259765625, f(a) = 0.0005589086791353282, f(x)= 0.0005589086791353282, f(b)= -0.0018485431714303502\n"
     ]
    }
   ],
   "source": [
    "k = 0\n",
    "while abs(f(x)) > tol:\n",
    "    x = (a+b)/2\n",
    "    print(f\"k = {k}, a= {a}, x = {x}, b = {b}, f(a) = {f(a)}, f(x) = {f(x)}, f(b) = {f(b)}\")\n",
    "    \n",
    "    if f(a)*f(x)<0:\n",
    "        a = a\n",
    "        b = x\n",
    "    elif f(x)*f(b)<0:\n",
    "        a = x\n",
    "        b = b\n",
    "    k +=1\n",
    "\n",
    "\n",
    "\n",
    "\n",
    "print(f\"k = {k}, a = {a}, x = {x}, b = {b}, f(a) = {f(a)}, f(x)= {f(x)}, f(b)= {f(b)}\")\n",
    "         \n",
    "    "
   ]
  },
  {
   "cell_type": "code",
   "execution_count": null,
   "id": "ee672bc8",
   "metadata": {},
   "outputs": [],
   "source": []
  },
  {
   "cell_type": "code",
   "execution_count": null,
   "id": "ad33a070",
   "metadata": {},
   "outputs": [],
   "source": []
  }
 ],
 "metadata": {
  "kernelspec": {
   "display_name": "Python 3",
   "language": "python",
   "name": "python3"
  },
  "language_info": {
   "codemirror_mode": {
    "name": "ipython",
    "version": 3
   },
   "file_extension": ".py",
   "mimetype": "text/x-python",
   "name": "python",
   "nbconvert_exporter": "python",
   "pygments_lexer": "ipython3",
   "version": "3.8.8"
  }
 },
 "nbformat": 4,
 "nbformat_minor": 5
}
